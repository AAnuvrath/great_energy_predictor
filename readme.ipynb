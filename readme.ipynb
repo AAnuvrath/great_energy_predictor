{
 "cells": [
  {
   "cell_type": "markdown",
   "id": "fffdeae6",
   "metadata": {},
   "source": [
    "\n",
    "\n",
    "\n",
    "<p style=\"font-size:36px;text-align:center\"> <b>Great Energy Predictor III</b> </p>"
   ]
  },
  {
   "cell_type": "markdown",
   "id": "89094953",
   "metadata": {},
   "source": [
    "<h1>1. Business Problem</h1>"
   ]
  },
  {
   "cell_type": "markdown",
   "id": "18b7bf75",
   "metadata": {},
   "source": [
    "<h2>1.1. Description</h2>"
   ]
  },
  {
   "cell_type": "markdown",
   "id": "33ce68c0",
   "metadata": {},
   "source": [
    "<p> Source: https://www.kaggle.com/competitions/ashrae-energy-prediction/overview </p>\n",
    "\n",
    "<p> Download train.csv, building_meta.csv, weather_[train/test].csv\n",
    "  and test.csv from Kaggle.</p> \n",
    "\n",
    "<h6> Problem statement : </h6>\n",
    "<p> Predicting how much energy will a building consume. </p>"
   ]
  },
  {
   "cell_type": "markdown",
   "id": "dd392a7f",
   "metadata": {},
   "source": [
    "<h2>1.2. Real-world/Business objectives and constraints.</h2>"
   ]
  },
  {
   "cell_type": "markdown",
   "id": "d6a35de6",
   "metadata": {},
   "source": [
    "* No low-latency requirement.\n",
    "* Interpretability is important.\n",
    "* Minimize errors(rmse) to save investers money"
   ]
  },
  {
   "cell_type": "markdown",
   "id": "c1da8889",
   "metadata": {},
   "source": [
    "<h1>2. Machine Learning Problem Formulation</h1>"
   ]
  },
  {
   "cell_type": "markdown",
   "id": "d3397b68",
   "metadata": {},
   "source": [
    "<h2>2.1. Data</h2>"
   ]
  },
  {
   "cell_type": "markdown",
   "id": "c48dfef3",
   "metadata": {},
   "source": [
    "- Source: https://www.kaggle.com/competitions/ashrae-energy-prediction/data\n",
    "- We have three data files: one conatins the information about the whether details of a particular site, second contains information about a particular buildings in the site and the last one contains power consumption details of the buildings.\n",
    "- <p> \n",
    "    Data file's information:\n",
    "    <ul> \n",
    "        <li>\n",
    "        train.csv (building_id, meter, timestamp, meter_reading)\n",
    "        </li>\n",
    "        <li>\n",
    "        building_meta.csv (site_id, building_id, primary_use,square_feet,year_built,floor_count)\n",
    "        </li>\n",
    "        <li>\n",
    "        weather_train.csv (site_id, air_temperature, cloud_coverage, dew_temperature, precip_depth_1_hr, seal_level_pressure, wind_direction, wind_speed, timestamp)\n",
    "        </li>\n",
    "    </ul>\n",
    "</p>"
   ]
  },
  {
   "cell_type": "markdown",
   "id": "685cef19",
   "metadata": {},
   "source": [
    "<h2>2.2. Mapping the real-world problem to an ML problem</h2>"
   ]
  },
  {
   "cell_type": "markdown",
   "id": "4a9a599c",
   "metadata": {},
   "source": [
    "<h3>2.2.1. Type of Machine Learning Problem</h3>"
   ]
  },
  {
   "cell_type": "markdown",
   "id": "ca29e1cd",
   "metadata": {},
   "source": [
    "<p>\n",
    "    \n",
    "            Predicting meter reading of a building without retrofits => Regression problem\n",
    "   \n",
    "      \n",
    "    \n",
    "</p>"
   ]
  },
  {
   "cell_type": "markdown",
   "id": "6f4963e3",
   "metadata": {},
   "source": [
    "<h3>2.2.2. Performance Metric</h3>"
   ]
  },
  {
   "cell_type": "markdown",
   "id": "299a0863",
   "metadata": {},
   "source": [
    "Metric(s): \n",
    "* Regression problem .\n",
    "The evaluation metric for this competition is Root Mean Squared Logarithmic Error."
   ]
  }
 ],
 "metadata": {
  "kernelspec": {
   "display_name": "Python 3",
   "language": "python",
   "name": "python3"
  },
  "language_info": {
   "codemirror_mode": {
    "name": "ipython",
    "version": 3
   },
   "file_extension": ".py",
   "mimetype": "text/x-python",
   "name": "python",
   "nbconvert_exporter": "python",
   "pygments_lexer": "ipython3",
   "version": "3.8.8"
  }
 },
 "nbformat": 4,
 "nbformat_minor": 5
}
